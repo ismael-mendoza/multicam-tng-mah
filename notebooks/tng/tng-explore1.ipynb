{
 "cells": [
  {
   "cell_type": "code",
   "execution_count": null,
   "metadata": {},
   "outputs": [],
   "source": [
    "import numpy as np \n",
    "\n",
    "import pickle\n",
    "\n",
    "import pandas as pd\n",
    "\n",
    "\n",
    "import multicam\n",
    "\n",
    "from tqdm import tqdm\n"
   ]
  },
  {
   "cell_type": "code",
   "execution_count": null,
   "metadata": {},
   "outputs": [],
   "source": [
    "tng_snapshot_dir = \"../../data/processed/tng/TNG300-1/\"  # everything is a host halo\n",
    "trees_file = \"../../data/processed/tng/TNG300-1_cut_trees.p\"\n",
    "present_snapfile = tng_snapshot_dir + \"TNG300-1_HaloHistory_MBP_snap99.hdf5\"\n",
    "metadata_file = \"../../data/processed/tng/tng300-1-table.csv\"\n"
   ]
  },
  {
   "cell_type": "markdown",
   "metadata": {},
   "source": [
    "## TNG explore file"
   ]
  },
  {
   "cell_type": "code",
   "execution_count": null,
   "metadata": {},
   "outputs": [],
   "source": [
    "# explore one tng file\n",
    "import h5py\n",
    "import numpy as np\n",
    "one_file = tng_snapshot_dir + \"TNG300-1_HaloHistory_MBP_snap99.hdf5\" # everything is a host halo\n",
    "f = h5py.File(one_file, 'r')\n"
   ]
  },
  {
   "cell_type": "code",
   "execution_count": null,
   "metadata": {},
   "outputs": [
    {
     "data": {
      "text/plain": [
       "['Halos']"
      ]
     },
     "metadata": {},
     "output_type": "display_data"
    }
   ],
   "source": [
    "list(f.keys())\n"
   ]
  },
  {
   "cell_type": "code",
   "execution_count": null,
   "metadata": {},
   "outputs": [
    {
     "data": {
      "text/plain": [
       "<KeysViewHDF5 ['axis0', 'axis1', 'block0_items', 'block0_values', 'block1_items', 'block1_values', 'block2_items', 'block2_values']>"
      ]
     },
     "metadata": {},
     "output_type": "display_data"
    }
   ],
   "source": [
    "f['Halos'].keys()\n"
   ]
  },
  {
   "cell_type": "code",
   "execution_count": null,
   "metadata": {},
   "outputs": [
    {
     "data": {
      "text/plain": [
       "((210,),\n",
       " array([b'HaloID', b'SubhaloID', b'SubhaloID_DMO', b'SubhaloID_LastDesc',\n",
       "        b'Central', b'Main', b'Mvir_TNG', b'Rvir_TNG', b'pos_x', b'pos_y',\n",
       "        b'pos_z', b'vel_x', b'vel_y', b'vel_z', b'delta_2cMpc',\n",
       "        b'delta_5cMpc', b'delta_10cMpc', b'delta_20cMpc', b'delta_40cMpc',\n",
       "        b'cvir_init', b'cvir_init_err', b'rho_s_init', b'rho_s_init_err',\n",
       "        b'Bound_Nfrac', b'Bound_Mfrac', b'Bound_Nfrac_SUBFIND', b'Rvir',\n",
       "        b'Mvir', b'R200c', b'M200c', b'R500c', b'M500c', b'R2500c',\n",
       "        b'M2500c', b'Core_vel_x', b'Core_vel_y', b'Core_vel_z', b'Ngas',\n",
       "        b'Nstars', b'Nbhs', b'Mgas_vir', b'Zgas_vir', b'SFR_vir', b'Y_vir',\n",
       "        b'Tm_vir', b'K_vir', b'Mgas_200c', b'Zgas_200c', b'SFR_200c',\n",
       "        b'Y_200c', b'Tm_200c', b'K_200c', b'Mgas_500c', b'Zgas_500c',\n",
       "        b'SFR_500c', b'Y_500c', b'Tm_500c', b'K_500c', b'Mgas_2500c',\n",
       "        b'Zgas_2500c', b'SFR_2500c', b'Y_2500c', b'Tm_2500c', b'K_2500c',\n",
       "        b'Mgas_10pkpc', b'Zgas_10pkpc', b'SFR_10pkpc', b'Y_10pkpc',\n",
       "        b'Tm_10pkpc', b'K_10pkpc', b'Mgas_30pkpc', b'Zgas_30pkpc',\n",
       "        b'SFR_30pkpc', b'Y_30pkpc', b'Tm_30pkpc', b'K_30pkpc',\n",
       "        b'Mgas_100pkpc', b'Zgas_100pkpc', b'SFR_100pkpc', b'Y_100pkpc',\n",
       "        b'Tm_100pkpc', b'K_100pkpc', b'Mstar_vir', b'Zstar_vir',\n",
       "        b'tstar_vir', b'Mstar_200c', b'Zstar_200c', b'tstar_200c',\n",
       "        b'Mstar_500c', b'Zstar_500c', b'tstar_500c', b'Mstar_2500c',\n",
       "        b'Zstar_2500c', b'tstar_2500c', b'Mstar_10pkpc', b'Zstar_10pkpc',\n",
       "        b'tstar_10pkpc', b'Mstar_30pkpc', b'Zstar_30pkpc', b'tstar_30pkpc',\n",
       "        b'Mstar_100pkpc', b'Zstar_100pkpc', b'tstar_100pkpc', b'Mbh_Rvir',\n",
       "        b'Mbh_clean_Rvir', b'Mbh_Cen', b'Mbh_clean_Cen', b'Nsat_Msub8',\n",
       "        b'Nsat_Msub9', b'Nsat_Msub10', b'Nsat_Msub11', b'Nsat_Msub12',\n",
       "        b'Nsat_Mstar6', b'Nsat_Mstar7', b'Nsat_Mstar8', b'Nsat_Mstar9',\n",
       "        b'Nsat_Mstar10', b'Rhalf', b'Rhalf_gas', b'Rhalf_stars',\n",
       "        b'R0p2_stars', b'R0p8_stars', b'cvir', b'cvir_err', b'rho_s',\n",
       "        b'rho_s_err', b'M_s', b'M_4s', b'M_s_gas', b'M_s_star', b'Vmax_DM',\n",
       "        b'Rmax_DM', b'Vmax_DM_self', b'Rmax_DM_self', b'Vmax_gas',\n",
       "        b'Rmax_gas', b'Vmax_stars', b'Rmax_stars', b's_DM_noiter',\n",
       "        b'q_DM_noiter', b'A_DM_eig_x_noiter', b'A_DM_eig_y_noiter',\n",
       "        b'A_DM_eig_z_noiter', b'shapesDM_N_iter', b'shapesDM_N_partfrac',\n",
       "        b'shapesDM_N_part', b's_DM', b'q_DM', b's_DM_err', b'q_DM_err',\n",
       "        b'A_DM_eig_x', b'A_DM_eig_y', b'A_DM_eig_z', b's_gas_noiter',\n",
       "        b'q_gas_noiter', b'A_gas_eig_x_noiter', b'A_gas_eig_y_noiter',\n",
       "        b'A_gas_eig_z_noiter', b's_star_noiter', b'q_star_noiter',\n",
       "        b'A_star_eig_x_noiter', b'A_star_eig_y_noiter',\n",
       "        b'A_star_eig_z_noiter', b'X_off_DM', b'V_off_DM', b'X_off_gas',\n",
       "        b'V_off_gas', b'X_off_star', b'V_off_star', b'Mean_vel_x_DM',\n",
       "        b'Mean_vel_y_DM', b'Mean_vel_z_DM', b'sigma_DM_X', b'sigma_DM_Y',\n",
       "        b'sigma_DM_Z', b'sigma_DM_3D', b'sigma_DM_R', b'Beta_anis_DM',\n",
       "        b'Mean_vel_x_gas', b'Mean_vel_y_gas', b'Mean_vel_z_gas',\n",
       "        b'sigma_gas_X', b'sigma_gas_Y', b'sigma_gas_Z', b'sigma_gas_3D',\n",
       "        b'sigma_gas_R', b'Beta_anis_gas', b'Mean_vel_x_star',\n",
       "        b'Mean_vel_y_star', b'Mean_vel_z_star', b'sigma_star_X',\n",
       "        b'sigma_star_Y', b'sigma_star_Z', b'sigma_star_3D',\n",
       "        b'sigma_star_R', b'Beta_anis_star', b'Spin_Bullock_DM', b'J_DM_x',\n",
       "        b'J_DM_y', b'J_DM_z', b'Spin_Bullock_gas', b'J_gas_x', b'J_gas_y',\n",
       "        b'J_gas_z', b'Spin_Bullock_star', b'J_star_x', b'J_star_y',\n",
       "        b'J_star_z', b'Mstar_bulge', b'EndState'], dtype='|S19'))"
      ]
     },
     "metadata": {},
     "output_type": "display_data"
    }
   ],
   "source": [
    "ds = f['Halos']['axis0']\n",
    "ds[:].shape, ds[:]\n"
   ]
  },
  {
   "cell_type": "code",
   "execution_count": null,
   "metadata": {},
   "outputs": [
    {
     "data": {
      "text/plain": [
       "array([    0,     1,     2, ..., 13640, 13641, 13642])"
      ]
     },
     "metadata": {},
     "output_type": "display_data"
    }
   ],
   "source": [
    "ds = f['Halos']['axis1']\n",
    "ds[:]\n"
   ]
  },
  {
   "cell_type": "code",
   "execution_count": null,
   "metadata": {},
   "outputs": [
    {
     "data": {
      "text/plain": [
       "(13643, 205)"
      ]
     },
     "metadata": {},
     "output_type": "display_data"
    }
   ],
   "source": [
    "ds = f['Halos']['block0_values']\n",
    "ds[:].shape\n"
   ]
  },
  {
   "cell_type": "code",
   "execution_count": null,
   "metadata": {},
   "outputs": [
    {
     "data": {
      "text/plain": [
       "array([b'HaloID', b'SubhaloID', b'SubhaloID_DMO', b'SubhaloID_LastDesc'],\n",
       "      dtype='|S18')"
      ]
     },
     "metadata": {},
     "output_type": "display_data"
    }
   ],
   "source": [
    "ds = f['Halos']['block1_items']\n",
    "ds[:]\n"
   ]
  },
  {
   "cell_type": "code",
   "execution_count": null,
   "metadata": {},
   "outputs": [
    {
     "data": {
      "text/plain": [
       "(13643, 4)"
      ]
     },
     "metadata": {},
     "output_type": "display_data"
    }
   ],
   "source": [
    "ds = f['Halos']['block1_values']\n",
    "ds[:].shape\n"
   ]
  },
  {
   "cell_type": "code",
   "execution_count": null,
   "metadata": {},
   "outputs": [
    {
     "data": {
      "text/plain": [
       "array([b'EndState'], dtype='|S8')"
      ]
     },
     "metadata": {},
     "output_type": "display_data"
    }
   ],
   "source": [
    "ds = f['Halos']['block2_items']\n",
    "ds[:]\n"
   ]
  },
  {
   "cell_type": "code",
   "execution_count": null,
   "metadata": {},
   "outputs": [
    {
     "data": {
      "text/plain": [
       "(1,)"
      ]
     },
     "metadata": {},
     "output_type": "display_data"
    }
   ],
   "source": [
    "ds = f['Halos']['block2_values']\n",
    "ds[:].shape\n"
   ]
  },
  {
   "cell_type": "markdown",
   "metadata": {},
   "source": [
    "### Extract relevant quantities"
   ]
  },
  {
   "cell_type": "code",
   "execution_count": null,
   "metadata": {},
   "outputs": [],
   "source": [
    "data = {}\n"
   ]
  },
  {
   "cell_type": "code",
   "execution_count": null,
   "metadata": {},
   "outputs": [],
   "source": [
    "# from 'block1' we just neeed halo_id\n",
    "names = ['halo_id', 'subhalo_id']\n",
    "keys = [b'HaloID', b'SubhaloID']\n",
    "for name, key in zip(names, keys):\n",
    "    idx = np.where(f['Halos']['block1_items'][:] == key)[0].item()\n",
    "    data[name] = f['Halos']['block1_values'][:,idx]\n",
    "\n",
    "# halo_id = f['Halos']['block1_values'][:,0]\n",
    "# mvir = f['Halos']['block0_values'][:,1]\n"
   ]
  },
  {
   "cell_type": "code",
   "execution_count": null,
   "metadata": {},
   "outputs": [],
   "source": [
    "# from 'block0' we need mvir\n",
    "names = ['mvir', 'm200', 'rvir', 'r200', 'm500', 'r500']\n",
    "keys = [b'Mvir', b'M200c', b'Rvir', b'R200c', b'M500c', b'R500c']\n",
    "for name, key in zip(names, keys):\n",
    "    idx = np.where(f['Halos']['block0_items'][:] == key)[0].item()\n",
    "    data[name] = f['Halos']['block0_values'][:,idx]\n"
   ]
  },
  {
   "cell_type": "code",
   "execution_count": null,
   "metadata": {},
   "outputs": [
    {
     "data": {
      "text/plain": [
       "<matplotlib.lines.Line2D at 0x11ab7d780>"
      ]
     },
     "metadata": {},
     "output_type": "display_data"
    },
    {
     "data": {
      "image/png": "[encoded data removed]",
      "text/plain": [
       "<Figure size 640x480 with 1 Axes>"
      ]
     },
     "metadata": {},
     "output_type": "display_data"
    }
   ],
   "source": [
    "_, bins, _ = plt.hist(data['mvir'], bins=101); \n",
    "# plt.hist(data['m200'], bins=bins)\n",
    "plt.axvline(12.7, c='r')\n"
   ]
  }
 ],
 "metadata": {
  "language_info": {
   "name": "python"
  }
 },
 "nbformat": 4,
 "nbformat_minor": 2
}
