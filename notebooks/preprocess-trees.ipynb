{
 "cells": [
  {
   "cell_type": "code",
   "execution_count": 4,
   "metadata": {},
   "outputs": [],
   "source": [
    "import warnings\n",
    "warnings.filterwarnings('ignore')\n",
    "\n",
    "import pandas as pd\n",
    "from astropy.table import Table as Table\n",
    "import numpy as np\n",
    "import pickle\n",
    "import h5py\n"
   ]
  },
  {
   "cell_type": "code",
   "execution_count": 5,
   "metadata": {},
   "outputs": [],
   "source": [
    "TNG_trees_clean = pickle.load(open('../../data/processed/tng/TNG300-1-Dark_cut_trees.p', 'rb'))\n"
   ]
  },
  {
   "cell_type": "code",
   "execution_count": 3,
   "metadata": {},
   "outputs": [
    {
     "name": "stdout",
     "output_type": "stream",
     "text": [
      "0123456789101112131415161718192021222324252627282930313233343536373839404142434445464748495051525354555657585960616263646566676869707172737475767778798081828384858687888990919293949596979899"
     ]
    }
   ],
   "source": [
    "halos = {}\n",
    "for i in range(100):\n",
    "    halos[i] = pd.read_hdf('../../data/processed/tng/TNG300-1-Dark/TNG300-1-Dark_HaloHistory_MBP_snap{}.hdf5'.format(i),\n",
    "                           key = 'Halos')\n",
    "    print(i, end = '')\n"
   ]
  },
  {
   "cell_type": "code",
   "execution_count": 6,
   "metadata": {},
   "outputs": [],
   "source": [
    "for tree in TNG_trees_clean:\n",
    "    IndexInHaloTable = np.zeros_like(tree['SubhaloGrNr']) - 1\n",
    "    for i, grnr in enumerate(tree['SubhaloGrNr']):\n",
    "        sn = tree['SnapNum'][i]\n",
    "        if sn > 2:\n",
    "            IndexInHaloTable[i] = np.where(halos[sn]['HaloID'] == grnr)[0][0]\n",
    "    tree['IndexInHaloTable'] = IndexInHaloTable\n"
   ]
  },
  {
   "cell_type": "code",
   "execution_count": 8,
   "metadata": {},
   "outputs": [
    {
     "data": {
      "text/plain": [
       "dict_keys(['Number', 'ChunkNumber', 'IndexInChunk', 'SnapNum', 'SubhaloGrNr', 'SubhaloID', 'FirstSubhaloInFOFGroupID', 'Group_M_TopHat200', 'GroupMass', 'SubhaloMass', 'flag_iscen', 'flag_aboveMthr', 'TreeID', 'IndexInHaloTable'])"
      ]
     },
     "execution_count": 8,
     "metadata": {},
     "output_type": "execute_result"
    }
   ],
   "source": [
    "TNG_trees_clean[0].keys()\n"
   ]
  },
  {
   "cell_type": "code",
   "execution_count": 9,
   "metadata": {},
   "outputs": [],
   "source": [
    "pickle.dump(TNG_trees_clean, open('../../data/processed/tng/TNG300-1-Dark_cut_trees2.p', 'wb'))\n"
   ]
  },
  {
   "cell_type": "code",
   "execution_count": null,
   "metadata": {},
   "outputs": [],
   "source": []
  }
 ],
 "metadata": {
  "kernelspec": {
   "display_name": "multicam-P7T5KfjX-py3.10",
   "language": "python",
   "name": "python3"
  },
  "language_info": {
   "codemirror_mode": {
    "name": "ipython",
    "version": 3
   },
   "file_extension": ".py",
   "mimetype": "text/x-python",
   "name": "python",
   "nbconvert_exporter": "python",
   "pygments_lexer": "ipython3",
   "version": "3.10.13"
  }
 },
 "nbformat": 4,
 "nbformat_minor": 2
}
