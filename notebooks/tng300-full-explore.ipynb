{
 "cells": [
  {
   "cell_type": "code",
   "execution_count": 19,
   "metadata": {},
   "outputs": [],
   "source": [
    "import h5py\n",
    "from tqdm import tqdm\n",
    "import numpy as np\n",
    "import matplotlib.pyplot as plt\n",
    "from multicam.tng.utils import convert_tng_mass"
   ]
  },
  {
   "cell_type": "code",
   "execution_count": 20,
   "metadata": {},
   "outputs": [
    {
     "name": "stderr",
     "output_type": "stream",
     "text": [
      "100%|██████████| 600/600 [00:29<00:00, 20.15it/s]\n"
     ]
    },
    {
     "data": {
      "text/plain": [
       "((14485709,), (14485709,))"
      ]
     },
     "execution_count": 20,
     "metadata": {},
     "output_type": "execute_result"
    }
   ],
   "source": [
    "\n",
    "# get gmass over all files \n",
    "subhalo_ids = []\n",
    "subhalo_mass = []\n",
    "subhalo_pos = []\n",
    "# dm_central_ids = []\n",
    "\n",
    "count = 0\n",
    "\n",
    "for ii in tqdm(range(0, 600)):\n",
    "    try: \n",
    "        filename = f'../../data/tng/300/fof_subhalo_tab_099.{ii}.hdf5'\n",
    "        with h5py.File(filename, 'r') as f:\n",
    "            if 'SubhaloMass' in f['Subhalo'].keys():\n",
    "                for s in f['Subhalo']['SubhaloMass']:\n",
    "                    subhalo_ids.append(count)\n",
    "                    subhalo_mass.append(s)\n",
    "                    count+=1\n",
    "    except OSError:\n",
    "        print(ii)\n",
    "        continue\n",
    "\n",
    "\n",
    "            # for pos in f['Subhalo']['SubhaloPos']:\n",
    "            #     dm_subhalo_pos.append(pos)\n",
    "\n",
    "            # if 'GroupFirstSub' in f['Group']:\n",
    "            #     for central_id in f['Group']['GroupFirstSub']:\n",
    "            #         dm_central_ids.append(central_id)\n",
    "\n",
    "\n",
    "subhalo_ids = np.array(subhalo_ids)\n",
    "# dm_subhalo_pos = np.array(dm_subhalo_pos)\n",
    "subhalo_mass = convert_tng_mass(np.array(subhalo_mass))\n",
    "# dm_central_ids = np.array(dm_central_ids)\n",
    "\n",
    "subhalo_ids.shape, subhalo_mass.shape\n",
    "\n",
    "# dm_central_ids.shape"
   ]
  },
  {
   "cell_type": "code",
   "execution_count": 23,
   "metadata": {},
   "outputs": [
    {
     "data": {
      "image/png": "[encoded data removed]",
      "text/plain": [
       "<Figure size 640x480 with 1 Axes>"
      ]
     },
     "metadata": {},
     "output_type": "display_data"
    }
   ],
   "source": [
    "plt.hist(subhalo_mass, bins=51, range=(8, 13))\n",
    "plt.axvline(11.5, color='r', linestyle='--');"
   ]
  },
  {
   "cell_type": "code",
   "execution_count": 22,
   "metadata": {},
   "outputs": [
    {
     "data": {
      "text/plain": [
       "95398"
      ]
     },
     "execution_count": 22,
     "metadata": {},
     "output_type": "execute_result"
    }
   ],
   "source": [
    "# how many subhaloes in the mass bin (rough, should use mpeak_pre)\n",
    "sum( (subhalo_mass> 11.5) & (subhalo_mass < 12.0))"
   ]
  },
  {
   "cell_type": "code",
   "execution_count": 24,
   "metadata": {},
   "outputs": [
    {
     "data": {
      "text/plain": [
       "45879"
      ]
     },
     "execution_count": 24,
     "metadata": {},
     "output_type": "execute_result"
    }
   ],
   "source": [
    "sum( (subhalo_mass> 11.8) & (subhalo_mass < 12.2))"
   ]
  },
  {
   "cell_type": "code",
   "execution_count": null,
   "metadata": {},
   "outputs": [],
   "source": []
  }
 ],
 "metadata": {
  "kernelspec": {
   "display_name": "multicam-P7T5KfjX-py3.10",
   "language": "python",
   "name": "python3"
  },
  "language_info": {
   "codemirror_mode": {
    "name": "ipython",
    "version": 3
   },
   "file_extension": ".py",
   "mimetype": "text/x-python",
   "name": "python",
   "nbconvert_exporter": "python",
   "pygments_lexer": "ipython3",
   "version": "3.10.13"
  }
 },
 "nbformat": 4,
 "nbformat_minor": 2
}
