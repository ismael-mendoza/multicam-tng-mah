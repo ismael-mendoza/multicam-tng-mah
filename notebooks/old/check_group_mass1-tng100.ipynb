{
 "cells": [
  {
   "cell_type": "code",
   "execution_count": 1,
   "id": "f3942420",
   "metadata": {},
   "outputs": [],
   "source": [
    "import h5py\n",
    "import matplotlib.pyplot as plt\n",
    "import numpy as np \n",
    "\n",
    "from multicam.tng.utils import convert_tng_mass\n",
    "\n",
    "from tqdm import tqdm"
   ]
  },
  {
   "cell_type": "markdown",
   "id": "b53e9b4d",
   "metadata": {},
   "source": [
    "## Extract data"
   ]
  },
  {
   "cell_type": "code",
   "execution_count": 2,
   "id": "25b4af59",
   "metadata": {},
   "outputs": [],
   "source": [
    "def convert_tng_mass2(gmass):\n",
    "    \"\"\"Convert TNG mass to log10(Msun).\"\"\"\n",
    "    # TNG units are 1e10 Msun / h; https://www.tng-project.org/data/docs/specifications\n",
    "    # return in units of log10(Msun)\n",
    "    # robust to 0 mass\n",
    "    return np.where(gmass > 0, np.log10(gmass * 1e10), 0)\n"
   ]
  },
  {
   "cell_type": "code",
   "execution_count": 23,
   "id": "3e68acff",
   "metadata": {},
   "outputs": [
    {
     "name": "stderr",
     "output_type": "stream",
     "text": [
      "100%|██████████| 448/448 [00:44<00:00, 10.00it/s]\n",
      "/var/folders/yl/5w7yl6bn1tsc5fjrdtsrsjhh0000gn/T/ipykernel_83509/411574188.py:6: RuntimeWarning: divide by zero encountered in log10\n",
      "  return np.where(gmass > 0, np.log10(gmass * 1e10), 0)\n"
     ]
    }
   ],
   "source": [
    "# get gmass over all files \n",
    "subhalo_ids = []\n",
    "subhalo_mass = []\n",
    "stellar_mass = []\n",
    "group_mass = [] \n",
    "hat_group_mass = [] \n",
    "gr_nums = [] \n",
    "\n",
    "count = 0\n",
    "for ii in tqdm(range(0, 448)):\n",
    "    filename = f'../data/tng/tng100-99/fof_subhalo_tab_099.{ii}.hdf5'\n",
    "    with h5py.File(filename, 'r') as f:\n",
    "\n",
    "        if 'GroupMass' in f['Group'].keys():\n",
    "            for s in f['Group']['GroupMass']:\n",
    "                group_mass.append(s)\n",
    "            for s in f['Group']['Group_M_TopHat200']:\n",
    "                hat_group_mass.append(s)\n",
    "            \n",
    "\n",
    "        if 'SubhaloMass' in f['Subhalo'].keys():\n",
    "            for s in f['Subhalo']['SubhaloMass']:\n",
    "                subhalo_ids.append(count)\n",
    "                subhalo_mass.append(s)\n",
    "                count+=1\n",
    "\n",
    "\n",
    "            for s in f['Subhalo']['SubhaloMassInRadType'][:,4]: # 4 = star particles\n",
    "                stellar_mass.append(s) \n",
    "\n",
    "            for s in f['Subhalo']['SubhaloGrNr']:\n",
    "                gr_nums.append(s)\n",
    "\n",
    "\n",
    "subhalo_ids = np.array(subhalo_ids)\n",
    "subhalo_mass = convert_tng_mass2(np.array(subhalo_mass)) # log10(Msun / h)\n",
    "stellar_mass = convert_tng_mass2(np.array(stellar_mass)) # log10(Msun / h)\n",
    "group_mass = convert_tng_mass2(np.array(group_mass))\n",
    "hat_group_mass = convert_tng_mass2(np.array(hat_group_mass))\n",
    "gr_nums = np.array(gr_nums)"
   ]
  },
  {
   "cell_type": "markdown",
   "id": "82c8d0f5",
   "metadata": {},
   "source": [
    "# Histograms"
   ]
  },
  {
   "cell_type": "code",
   "execution_count": 24,
   "id": "ad7a7ca3",
   "metadata": {},
   "outputs": [],
   "source": [
    "import matplotlib.pyplot as plt "
   ]
  },
  {
   "cell_type": "code",
   "execution_count": 25,
   "id": "640328e7",
   "metadata": {},
   "outputs": [
    {
     "data": {
      "text/plain": [
       "((6291349,), (6291349,), (4371211,))"
      ]
     },
     "execution_count": 25,
     "metadata": {},
     "output_type": "execute_result"
    }
   ],
   "source": [
    "hat_group_mass.shape, group_mass.shape, subhalo_mass.shape"
   ]
  },
  {
   "cell_type": "code",
   "execution_count": 20,
   "id": "955cc8f7",
   "metadata": {},
   "outputs": [
    {
     "data": {
      "text/plain": [
       "(np.int64(2862632), np.int64(0))"
      ]
     },
     "execution_count": 20,
     "metadata": {},
     "output_type": "execute_result"
    }
   ],
   "source": [
    "sum(hat_group_mass==0), sum(group_mass==0)"
   ]
  },
  {
   "cell_type": "code",
   "execution_count": 22,
   "id": "e3e7b416",
   "metadata": {},
   "outputs": [
    {
     "data": {
      "text/plain": [
       "<matplotlib.legend.Legend at 0x1119ad190>"
      ]
     },
     "execution_count": 22,
     "metadata": {},
     "output_type": "execute_result"
    },
    {
     "data": {
      "image/png": "[encoded data removed]",
      "text/plain": [
       "<Figure size 640x480 with 1 Axes>"
      ]
     },
     "metadata": {},
     "output_type": "display_data"
    }
   ],
   "source": [
    "bins = np.linspace(7, 12, 50)\n",
    "plt.hist(group_mass, bins=bins, histtype='step', label='group 1')\n",
    "plt.hist(hat_group_mass, bins=bins, histtype='step', label='group 2')\n",
    "plt.hist(subhalo_mass, bins=bins, histtype='step', label='subhalo')\n",
    "plt.legend()"
   ]
  },
  {
   "cell_type": "code",
   "execution_count": 30,
   "id": "794d42c6",
   "metadata": {},
   "outputs": [
    {
     "data": {
      "text/plain": [
       "(array([0.0000e+00, 0.0000e+00, 0.0000e+00, 5.0000e+00, 2.0000e+01,\n",
       "        1.1600e+02, 1.2450e+03, 1.1921e+04, 2.5202e+04, 2.0707e+04,\n",
       "        1.8231e+04, 1.5514e+04, 1.3276e+04, 1.1275e+04, 9.8470e+03,\n",
       "        8.7130e+03, 7.6520e+03, 6.9440e+03, 6.1830e+03, 5.8980e+03,\n",
       "        5.3430e+03, 5.0190e+03, 4.7910e+03, 4.3750e+03, 4.0820e+03,\n",
       "        3.6590e+03, 3.3710e+03, 3.0200e+03, 2.6580e+03, 2.2810e+03,\n",
       "        1.9530e+03, 1.5530e+03, 1.4740e+03, 1.2920e+03, 1.0760e+03,\n",
       "        9.6500e+02, 9.5400e+02, 8.3400e+02, 5.1000e+02, 3.6500e+02,\n",
       "        2.1900e+02, 1.4100e+02, 9.1000e+01, 5.6000e+01, 4.3000e+01,\n",
       "        2.2000e+01, 2.0000e+01, 6.0000e+00, 5.0000e+00]),\n",
       " array([ 5.        ,  5.14285714,  5.28571429,  5.42857143,  5.57142857,\n",
       "         5.71428571,  5.85714286,  6.        ,  6.14285714,  6.28571429,\n",
       "         6.42857143,  6.57142857,  6.71428571,  6.85714286,  7.        ,\n",
       "         7.14285714,  7.28571429,  7.42857143,  7.57142857,  7.71428571,\n",
       "         7.85714286,  8.        ,  8.14285714,  8.28571429,  8.42857143,\n",
       "         8.57142857,  8.71428571,  8.85714286,  9.        ,  9.14285714,\n",
       "         9.28571429,  9.42857143,  9.57142857,  9.71428571,  9.85714286,\n",
       "        10.        , 10.14285714, 10.28571429, 10.42857143, 10.57142857,\n",
       "        10.71428571, 10.85714286, 11.        , 11.14285714, 11.28571429,\n",
       "        11.42857143, 11.57142857, 11.71428571, 11.85714286, 12.        ]),\n",
       " [<matplotlib.patches.Polygon at 0x1150af3e0>])"
      ]
     },
     "execution_count": 30,
     "metadata": {},
     "output_type": "execute_result"
    },
    {
     "data": {
      "image/png": "[encoded data removed]",
      "text/plain": [
       "<Figure size 640x480 with 1 Axes>"
      ]
     },
     "metadata": {},
     "output_type": "display_data"
    }
   ],
   "source": [
    "bins = np.linspace(5, 12, 50)\n",
    "\n",
    "plt.hist(stellar_mass, bins=bins, histtype='step')"
   ]
  },
  {
   "cell_type": "code",
   "execution_count": null,
   "id": "71fbecbf",
   "metadata": {},
   "outputs": [],
   "source": []
  }
 ],
 "metadata": {
  "kernelspec": {
   "display_name": "multicam1",
   "language": "python",
   "name": "python3"
  },
  "language_info": {
   "codemirror_mode": {
    "name": "ipython",
    "version": 3
   },
   "file_extension": ".py",
   "mimetype": "text/x-python",
   "name": "python",
   "nbconvert_exporter": "python",
   "pygments_lexer": "ipython3",
   "version": "3.12.11"
  }
 },
 "nbformat": 4,
 "nbformat_minor": 5
}
